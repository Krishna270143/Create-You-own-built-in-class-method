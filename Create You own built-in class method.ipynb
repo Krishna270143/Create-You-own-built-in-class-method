{
 "cells": [
  {
   "cell_type": "markdown",
   "id": "d95a237e",
   "metadata": {},
   "source": [
    "class to implement pow(x, n)"
   ]
  },
  {
   "cell_type": "code",
   "execution_count": 1,
   "id": "0da61382",
   "metadata": {},
   "outputs": [
    {
     "name": "stdout",
     "output_type": "stream",
     "text": [
      "Enter x value :10\n",
      "Enter n value :2\n",
      "pow(x,n) value is : 100\n"
     ]
    }
   ],
   "source": [
    "class py_pow:                           #using classing function\n",
    "   def powr(self, x, n):                #defining the power function\n",
    "        if x==0 or x==1 or n==1:         # declaring if function\n",
    "            return x                   \n",
    "\n",
    "        if x==-1:\n",
    "            if n%2 ==0:\n",
    "                return 1\n",
    "            else:\n",
    "                return -1\n",
    "        if n==0:\n",
    "            return 1\n",
    "        if n<0:\n",
    "            return 1/self.powr(x,-n)\n",
    "        val = self.powr(x,n//2)\n",
    "        if n%2 ==0:\n",
    "            return val*val\n",
    "        return val*val*x\n",
    "\n",
    "x=int(input(\"Enter x value :\"))             # print the statememt of x value\n",
    "n=int(input(\"Enter n value :\"))             # print the statememt of n value\n",
    "print(\"pow(x,n) value is :\",py_pow().powr(x,n));   #print the value x to the power of n\n"
   ]
  },
  {
   "cell_type": "code",
   "execution_count": null,
   "id": "49352649",
   "metadata": {},
   "outputs": [],
   "source": []
  },
  {
   "cell_type": "code",
   "execution_count": null,
   "id": "79e02ec5",
   "metadata": {},
   "outputs": [],
   "source": [
    "Test cases:\n",
    "    "
   ]
  },
  {
   "cell_type": "code",
   "execution_count": 2,
   "id": "930fb018",
   "metadata": {},
   "outputs": [
    {
     "name": "stdout",
     "output_type": "stream",
     "text": [
      "Enter x value :4\n",
      "Enter n value :14\n",
      "pow(x,n) value is : 268435456\n"
     ]
    }
   ],
   "source": [
    "class py_pow:\n",
    "   def powr(self, x, n):\n",
    "        if x==0 or x==1 or n==1:\n",
    "            return x \n",
    "\n",
    "        if x==-1:\n",
    "            if n%2 ==0:\n",
    "                return 1\n",
    "            else:\n",
    "                return -1\n",
    "        if n==0:\n",
    "            return 1\n",
    "        if n<0:\n",
    "            return 1/self.powr(x,-n)\n",
    "        val = self.powr(x,n//2)\n",
    "        if n%2 ==0:\n",
    "            return val*val\n",
    "        return val*val*x\n",
    "\n",
    "x=int(input(\"Enter x value :\"))\n",
    "n=int(input(\"Enter n value :\"))\n",
    "print(\"pow(x,n) value is :\",py_pow().powr(x,n));"
   ]
  },
  {
   "cell_type": "code",
   "execution_count": null,
   "id": "ef6c449c",
   "metadata": {},
   "outputs": [],
   "source": []
  },
  {
   "cell_type": "code",
   "execution_count": 3,
   "id": "a3549316",
   "metadata": {},
   "outputs": [
    {
     "name": "stdout",
     "output_type": "stream",
     "text": [
      "Enter x value :-15\n",
      "Enter n value :5\n",
      "pow(x,n) value is : -759375\n"
     ]
    }
   ],
   "source": [
    "class py_pow:\n",
    "   def powr(self, x, n):\n",
    "        if x==0 or x==1 or n==1:\n",
    "            return x \n",
    "\n",
    "        if x==-1:\n",
    "            if n%2 ==0:\n",
    "                return 1\n",
    "            else:\n",
    "                return -1\n",
    "        if n==0:\n",
    "            return 1\n",
    "        if n<0:\n",
    "            return 1/self.powr(x,-n)\n",
    "        val = self.powr(x,n//2)\n",
    "        if n%2 ==0:\n",
    "            return val*val\n",
    "        return val*val*x\n",
    "\n",
    "x=int(input(\"Enter x value :\"))\n",
    "n=int(input(\"Enter n value :\"))\n",
    "print(\"pow(x,n) value is :\",py_pow().powr(x,n));\n",
    "\n"
   ]
  },
  {
   "cell_type": "code",
   "execution_count": null,
   "id": "3610bf8d",
   "metadata": {},
   "outputs": [],
   "source": []
  }
 ],
 "metadata": {
  "kernelspec": {
   "display_name": "Python 3 (ipykernel)",
   "language": "python",
   "name": "python3"
  },
  "language_info": {
   "codemirror_mode": {
    "name": "ipython",
    "version": 3
   },
   "file_extension": ".py",
   "mimetype": "text/x-python",
   "name": "python",
   "nbconvert_exporter": "python",
   "pygments_lexer": "ipython3",
   "version": "3.10.0"
  }
 },
 "nbformat": 4,
 "nbformat_minor": 5
}
